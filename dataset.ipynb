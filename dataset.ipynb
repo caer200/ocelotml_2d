{
  "nbformat": 4,
  "nbformat_minor": 0,
  "metadata": {
    "colab": {
      "name": "dataset.ipynb",
      "provenance": [],
      "collapsed_sections": []
    },
    "kernelspec": {
      "name": "python3",
      "display_name": "Python 3"
    },
    "language_info": {
      "name": "python"
    }
  },
  "cells": [
    {
      "cell_type": "markdown",
      "source": [
        "[![Open In Colab](https://colab.research.google.com/assets/colab-badge.svg)](https://colab.research.google.com/github/googlecolab/colabtools/blob/master/notebooks/colab-github-demo.ipynb)"
      ],
      "metadata": {
        "id": "pum6_8wBqrZt"
      }
    },
    {
      "cell_type": "code",
      "execution_count": null,
      "metadata": {
        "id": "qJ6GEtxFoFB2"
      },
      "outputs": [],
      "source": [
        "\"\"\"\n",
        "Download the dataset.\n",
        "Use the google drive link to download the CSV file.\n",
        "Pandas read_csv function recommended. See usage below\n",
        "\n",
        "For descriptions of the columns refer the dataset_description.txt\n",
        "\"\"\"\n",
        "\n",
        "import pandas as pd\n",
        "\n",
        "CHROMOPHORE_V1 = \"https://drive.google.com/uc?export=download&id=1zrb9HfWR-ydyf3WxoDMZQZxcSx3Q_JGh\"\n",
        "df = pd.read_csv(CHROMOPHORE_V1)\n",
        "df.head()"
      ]
    }
  ]
}