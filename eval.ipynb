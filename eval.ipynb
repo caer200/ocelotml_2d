{
  "nbformat": 4,
  "nbformat_minor": 0,
  "metadata": {
    "colab": {
      "name": "eval.py",
      "provenance": []
    },
    "kernelspec": {
      "name": "python3",
      "display_name": "Python 3"
    },
    "language_info": {
      "name": "python"
    }
  },
  "cells": [
    {
      "cell_type": "markdown",
      "source": [
        "[![Open In Colab](https://colab.research.google.com/assets/colab-badge.svg)](https://colab.research.google.com/github/caer200/ocelotml_2d/blob/main/eval.ipynb)"
      ],
      "metadata": {
        "id": "ut7LJRa2yx0N"
      }
    },
    {
      "cell_type": "markdown",
      "source": [
        "# Install the required packages"
      ],
      "metadata": {
        "id": "jyR-M4wryeJ8"
      }
    },
    {
      "cell_type": "code",
      "source": [
        "!pip install rdkit\n",
        "!pip install dgl\n",
        "!pip install dgllife"
      ],
      "metadata": {
        "id": "CAPPJSf5s1W_"
      },
      "execution_count": null,
      "outputs": []
    },
    {
      "cell_type": "markdown",
      "source": [
        "# Download the pretrained models "
      ],
      "metadata": {
        "id": "zYcPEdZXwD2d"
      }
    },
    {
      "cell_type": "code",
      "source": [
        "import requests, zipfile, io\n",
        "\n",
        "def get_models():\n",
        "  MODELS_URL = \"https://drive.google.com/uc?export=download&id=1FfGyJ-ZLfb_vdk6-05TsfH0W2ZIk9T4f&confirm=f\"\n",
        "  r = requests.get(MODELS_URL)\n",
        "  z = zipfile.ZipFile(io.BytesIO(r.content))\n",
        "  z.extractall(\"models\")\n",
        "\n",
        "get_models()"
      ],
      "metadata": {
        "id": "xPR27j3otCoG"
      },
      "execution_count": 1,
      "outputs": []
    },
    {
      "cell_type": "markdown",
      "source": [
        "# Make predictions with pre-trained models\n",
        "\n"
      ],
      "metadata": {
        "id": "afSSjZrswpnm"
      }
    },
    {
      "cell_type": "code",
      "source": [
        "!git clone https://github.com/caer200/ocelotml_2d.git"
      ],
      "metadata": {
        "colab": {
          "base_uri": "https://localhost:8080/"
        },
        "id": "QsnunLe0z2Av",
        "outputId": "882aa762-e7bb-4026-a1cf-2215f7331a83"
      },
      "execution_count": 2,
      "outputs": [
        {
          "output_type": "stream",
          "name": "stdout",
          "text": [
            "fatal: destination path 'ocelotml_2d' already exists and is not an empty directory.\n"
          ]
        }
      ]
    },
    {
      "cell_type": "code",
      "source": [
        "from ocelotml_2d.ocelotml import * # load the helper functions\n",
        "\n",
        "def mlpredict(smiles, model_name):\n",
        "    prediction = make_prediction_with_smiles(smiles, model_name)"
      ],
      "metadata": {
        "id": "eMo1_x9StKMG"
      },
      "execution_count": null,
      "outputs": []
    },
    {
      "cell_type": "markdown",
      "source": [
        "Edit the code below to test on different molecules. SMILES can be generated [here](https://pubchem.ncbi.nlm.nih.gov//edit3/index.html). \n",
        "\n",
        "The nomenclature of the models is ***property_generation_subtype***. \n",
        "\n",
        "For example, prediction of homo with fourth generation model + uncertainity use  ***homo_4gen_evi***"
      ],
      "metadata": {
        "id": "ADduYCLGzFtM"
      }
    },
    {
      "cell_type": "code",
      "source": [
        "smiles = \"c1ccccc1\"\n",
        "model_name = \"homo_4gen_evi\"\n",
        "mlpredict(smiles=smiles, model_name=model_name)"
      ],
      "metadata": {
        "id": "HaTNxR01xjxg"
      },
      "execution_count": null,
      "outputs": []
    }
  ]
}
