{
  "nbformat": 4,
  "nbformat_minor": 0,
  "metadata": {
    "colab": {
      "name": "eval.py",
      "provenance": []
    },
    "kernelspec": {
      "name": "python3",
      "display_name": "Python 3"
    },
    "language_info": {
      "name": "python"
    }
  },
  "cells": [
    {
      "cell_type": "markdown",
      "source": [
        "[![Open In Colab](https://colab.research.google.com/assets/colab-badge.svg)](https://colab.research.google.com/github/caer200/ocelotml_2d/blob/main/eval.ipynb)"
      ],
      "metadata": {
        "id": "ut7LJRa2yx0N"
      }
    },
    {
      "cell_type": "markdown",
      "source": [
        "# Install the required packages"
      ],
      "metadata": {
        "id": "jyR-M4wryeJ8"
      }
    },
    {
      "cell_type": "code",
      "source": [
        "!pip install rdkit\n",
        "!pip install dgl\n",
        "!pip install dgllife"
      ],
      "metadata": {
        "id": "CAPPJSf5s1W_"
      },
      "execution_count": null,
      "outputs": []
    },
    {
      "cell_type": "markdown",
      "source": [
        "# Download the pre-trained models "
      ],
      "metadata": {
        "id": "zYcPEdZXwD2d"
      }
    },
    {
      "cell_type": "code",
      "source": [
        "import requests, zipfile, io\n",
        "\n",
        "def get_models():\n",
        "  MODELS_URL = \"https://data.materialsdatafacility.org/tmp/ocelotml/ocelotml_2d.zip\"\n",
        "  r = requests.get(MODELS_URL)\n",
        "  z = zipfile.ZipFile(io.BytesIO(r.content))\n",
        "  z.extractall(\"models\")\n",
        "\n",
        "get_models()"
      ],
      "metadata": {
        "id": "xPR27j3otCoG"
      },
      "execution_count": null,
      "outputs": []
    },
    {
      "cell_type": "markdown",
      "source": [
        "# Make predictions with pre-trained models\n",
        "\n"
      ],
      "metadata": {
        "id": "afSSjZrswpnm"
      }
    },
    {
      "cell_type": "code",
      "source": [
        "!git clone https://github.com/caer200/ocelotml_2d.git"
      ],
      "metadata": {
        "id": "QsnunLe0z2Av"
      },
      "execution_count": null,
      "outputs": []
    },
    {
      "cell_type": "code",
      "source": [
        "# load the helper functions\n",
        "from ocelotml_2d.ocelotml import * \n",
        "\n",
        "def mlpredict(smiles, model_name):\n",
        "    prediction = make_prediction_with_smiles(smiles, model_name)\n",
        "    return prediction"
      ],
      "metadata": {
        "id": "eMo1_x9StKMG"
      },
      "execution_count": null,
      "outputs": []
    },
    {
      "cell_type": "markdown",
      "source": [
        "The nomenclature of the models is ***property_generation_subtype***. \n",
        "\n"
      ],
      "metadata": {
        "id": "ADduYCLGzFtM"
      }
    },
    {
      "cell_type": "code",
      "source": [
        "# show available models\n",
        "! ls models/ocelotml_2d/"
      ],
      "metadata": {
        "id": "Qg9d_6AsrK4u"
      },
      "execution_count": null,
      "outputs": []
    },
    {
      "cell_type": "markdown",
      "source": [
        "For example, prediction of homo with fourth generation model + uncertainity use  ***homo_4gen_evi***\n",
        "\n",
        "In case of models with uncertainity, first value is the prediction and the second value is the uncertainity\n",
        "\n",
        "Edit the code below to test on different molecules. SMILES can be generated [here](https://pubchem.ncbi.nlm.nih.gov//edit3/index.html).\n"
      ],
      "metadata": {
        "id": "7SM14yCfrKDQ"
      }
    },
    {
      "cell_type": "code",
      "source": [
        "smiles = \"c1ccccc1\"\n",
        "model_name = \"homo_4gen_evi\"\n",
        "mlpredict(smiles=smiles, model_name=model_name)"
      ],
      "metadata": {
        "id": "HaTNxR01xjxg"
      },
      "execution_count": null,
      "outputs": []
    }
  ]
}