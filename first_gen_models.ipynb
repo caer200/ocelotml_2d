{
  "cells": [
    {
      "cell_type": "markdown",
      "source": [
        "[![Open In Colab](https://colab.research.google.com/assets/colab-badge.svg)](https://colab.research.google.com/github/caer200/ocelotml_2d/blob/main/first_gen_models.ipynb)"
      ],
      "metadata": {
        "id": "lDK9eS-WGUKe"
      }
    },
    {
      "cell_type": "markdown",
      "metadata": {
        "id": "Ui5U-e0eykZy"
      },
      "source": [
        "# Install the required packages\n"
      ]
    },
    {
      "cell_type": "code",
      "execution_count": 4,
      "metadata": {
        "colab": {
          "base_uri": "https://localhost:8080/"
        },
        "id": "cDODiUjZyljL",
        "outputId": "1c676e49-29d4-45bb-ef7c-f6296bf058fa"
      },
      "outputs": [
        {
          "output_type": "stream",
          "name": "stdout",
          "text": [
            "Looking in indexes: https://pypi.org/simple, https://us-python.pkg.dev/colab-wheels/public/simple/\n",
            "Collecting rdkit\n",
            "  Downloading rdkit-2022.9.1-cp37-cp37m-manylinux_2_17_x86_64.manylinux2014_x86_64.whl (29.5 MB)\n",
            "\u001b[K     |████████████████████████████████| 29.5 MB 1.6 MB/s \n",
            "\u001b[?25hRequirement already satisfied: Pillow in /usr/local/lib/python3.7/dist-packages (from rdkit) (7.1.2)\n",
            "Requirement already satisfied: numpy in /usr/local/lib/python3.7/dist-packages (from rdkit) (1.21.6)\n",
            "Installing collected packages: rdkit\n",
            "Successfully installed rdkit-2022.9.1\n"
          ]
        }
      ],
      "source": [
        "!pip install rdkit"
      ]
    },
    {
      "cell_type": "code",
      "execution_count": 5,
      "metadata": {
        "id": "vtsfONuczU1A"
      },
      "outputs": [],
      "source": [
        "import matplotlib.pyplot as plt\n",
        "import json\n",
        "from sklearn.svm import SVR\n",
        "from sklearn.metrics import mean_squared_error, r2_score, mean_absolute_error\n",
        "from sklearn.kernel_ridge import KernelRidge\n",
        "from sklearn.linear_model import Ridge\n",
        "import pandas as pd\n",
        "from tqdm import tqdm\n",
        "import rdkit.Chem as Chem\n",
        "import numpy as np\n"
      ]
    },
    {
      "cell_type": "markdown",
      "metadata": {
        "id": "uFqC5a9PyvBY"
      },
      "source": [
        "# Get the OCELOT ML library"
      ]
    },
    {
      "cell_type": "code",
      "execution_count": 2,
      "metadata": {
        "colab": {
          "base_uri": "https://localhost:8080/"
        },
        "id": "Nb6zhdi8yvkx",
        "outputId": "3223e81c-e44e-48e1-8b31-b240dd073411"
      },
      "outputs": [
        {
          "output_type": "stream",
          "name": "stdout",
          "text": [
            "Cloning into 'ocelotml_2d'...\n",
            "remote: Enumerating objects: 73, done.\u001b[K\n",
            "remote: Counting objects: 100% (5/5), done.\u001b[K\n",
            "remote: Compressing objects: 100% (4/4), done.\u001b[K\n",
            "remote: Total 73 (delta 4), reused 1 (delta 1), pack-reused 68\u001b[K\n",
            "Unpacking objects: 100% (73/73), done.\n"
          ]
        }
      ],
      "source": [
        "!git clone https://github.com/caer200/ocelotml_2d.git"
      ]
    },
    {
      "cell_type": "markdown",
      "metadata": {
        "id": "XEQUSyi4QgM4"
      },
      "source": [
        "# Get the model parameters "
      ]
    },
    {
      "cell_type": "code",
      "execution_count": 1,
      "metadata": {
        "id": "XP7T5BMDQsFf"
      },
      "outputs": [],
      "source": [
        "import requests, zipfile, io\n",
        "\n",
        "def get_models():\n",
        "  MODELS_URL = \"https://drive.google.com/uc?export=download&id=1FfGyJ-ZLfb_vdk6-05TsfH0W2ZIk9T4f&confirm=f\"\n",
        "  r = requests.get(MODELS_URL)\n",
        "  z = zipfile.ZipFile(io.BytesIO(r.content))\n",
        "  z.extractall(\"models\")\n",
        "\n",
        "get_models()"
      ]
    },
    {
      "cell_type": "markdown",
      "metadata": {
        "id": "H9iHavYhy7WV"
      },
      "source": [
        "# Define training functions"
      ]
    },
    {
      "cell_type": "code",
      "execution_count": 6,
      "metadata": {
        "id": "tUmYWxQ9y-I_"
      },
      "outputs": [],
      "source": [
        "from ocelotml_2d.mlp_features import *\n",
        "\n",
        "def plot_pred_true(true, pred):\n",
        "  plt.scatter(true, pred)\n",
        "  plt.xlabel(\"True values (eV)\")\n",
        "  plt.ylabel(\"Predicted values (eV)\")\n",
        "  plt.show()\n",
        "\n",
        "def prepare_data(model_name, data_frame, fp=None):\n",
        "  train = data_frame.sample(frac = 0.8)\n",
        "  test = data_frame.loc[~data_frame.index.isin(train.index)]\n",
        "  train_smiles = train.smiles\n",
        "  test_smiles = test.smiles\n",
        "  mtype = model_name.split(\"_\")[0]\n",
        "  #skip = F\"{mtype}_with_fp_\" if \"with\" in model_name else F\"{mtype}_no_fp_\"\n",
        "  data_name = model_name.split(\"_\")[0]\n",
        "  #data_name = model_name.replace(skip, \"\")\n",
        "  train_data = np.array(train[data_name])\n",
        "  test_data = np.array(test[data_name])\n",
        "  mol_train = [Chem.MolFromSmiles(mol) for mol in tqdm(train_smiles, desc = \"Making training molecules\")]\n",
        "  mol_test = [Chem.MolFromSmiles(mol) for mol in tqdm(test_smiles, desc = \"Making testing molecules\")]\n",
        "\n",
        "  train_feats = [molecule_descriptors(mol, fp=fp) for mol in tqdm(mol_train, desc = \"Making training features\")]\n",
        "  test_feats = [molecule_descriptors(mol, fp=fp) for mol in tqdm(mol_test, desc = \"Making training features\")]\n",
        "  return train_feats, test_feats, train_data, test_data\n",
        "\n",
        "\n",
        "\n",
        "def SVM_training(xtrain, xtest, ytrain, ytest, params, plot=True, return_fitted=False):\n",
        "  reg = SVR(**params)\n",
        "  reg.fit(xtrain, ytrain)\n",
        "  my_pred = reg.predict(xtest)\n",
        "  r2 = r2_score(ytest, my_pred)\n",
        "  MAE = mean_absolute_error(ytest, my_pred)\n",
        "  if plot:\n",
        "    plot_pred_true(ytest, my_pred)\n",
        "  if return_fitted:\n",
        "    return round(r2, 3), round(MAE, 3), reg\n",
        "  else:\n",
        "    return round(r2, 3), round(MAE, 3), None\n",
        "\n",
        "  \n",
        "def KRR_training(xtrain, xtest, ytrain, ytest, params, plot=True, return_fitted=False):\n",
        "  reg = KernelRidge(**params)\n",
        "  reg.fit(xtrain, ytrain)\n",
        "  my_pred = reg.predict(xtest)\n",
        "  r2 = r2_score(ytest, my_pred)\n",
        "  MAE = mean_absolute_error(ytest, my_pred)\n",
        "  if plot:\n",
        "    plot_pred_true(ytest, my_pred)\n",
        "  if return_fitted:\n",
        "    return round(r2, 3), round(MAE, 3), reg\n",
        "  else:\n",
        "    return round(r2, 3), round(MAE, 3), None\n",
        "\n",
        "def Ridge_regression_training(xtrain, xtest, ytrain, ytest, params, plot=True, return_fitted = False):\n",
        "  reg = Ridge(**params)\n",
        "  reg.fit(xtrain, ytrain)\n",
        "  my_pred = reg.predict(xtest)\n",
        "  r2 = r2_score(ytest, my_pred)\n",
        "  MAE = mean_absolute_error(ytest, my_pred)\n",
        "  if plot:\n",
        "    plot_pred_true(ytest, my_pred)\n",
        "  if return_fitted:\n",
        "    return round(r2, 3), round(MAE, 3), reg\n",
        "  else:\n",
        "    return round(r2, 3), round(MAE, 3), None\n",
        "\n",
        "def prediction_from_fitted_model(molecule, model, fp=None):\n",
        "  if model is None:\n",
        "    print(\"Needs a trained model, set get_back_trained_model to True\")\n",
        "    return None\n",
        "  mol = Chem.MolFromSmiles(molecule)\n",
        "  if mol is None:\n",
        "    print(F\"Molecule {molecule} is not valid!\")\n",
        "    return None\n",
        "  feats = np.array(molecule_descriptors(mol, fp = fp))\n",
        "  prediction = model.predict([feats])\n",
        "  return round(prediction[0], 3)\n",
        "  \n",
        "\n",
        "def define_model(name, plot=True, return_fitted=True, partial_amount = None):\n",
        "  try:\n",
        "    with open(F\"models/ocelotml_2d/{name}/params.json\", \"r\") as file:\n",
        "      param_d = json.load(file)\n",
        "  except FileNotFoundError:\n",
        "    print(F\"Model {name} does not exist\")\n",
        "    return (None, None, None), None\n",
        "  if \"FP\" in name:\n",
        "    fp = param_d.pop(\"fp_length\")\n",
        "  else:\n",
        "    fp = None\n",
        "  if partial_amount:\n",
        "\n",
        "    df = pd.read_csv(\"https://drive.google.com/uc?export=download&id=1zrb9HfWR-ydyf3WxoDMZQZxcSx3Q_JGh\", index_col=0).iloc[:partial_amount]\n",
        "  else:\n",
        "    df = pd.read_csv(\"https://drive.google.com/uc?export=download&id=1zrb9HfWR-ydyf3WxoDMZQZxcSx3Q_JGh\", index_col=0)\n",
        "  xtr, xt, ytr, yt = prepare_data(name, df, fp=fp)\n",
        "  if \"svm\" in name:\n",
        "    return SVM_training(xtr, xt, ytr, yt, param_d, plot, return_fitted), fp\n",
        "  elif \"krr\" in name:\n",
        "    return KRR_training(xtr, xt, ytr, yt, param_d, plot, return_fitted), fp\n",
        "  elif \"ridge\" in name:\n",
        "    return Ridge_regression_training(xtr, xt, ytr, yt, param_d, plot, return_fitted), fp\n",
        "  \n",
        "\n",
        "  \n"
      ]
    },
    {
      "cell_type": "markdown",
      "metadata": {
        "id": "7iRz80PVzZMw"
      },
      "source": [
        "# Train a model!\n",
        "\n",
        "A model can be chosen with the following architectures:\n",
        "\n",
        "\n",
        "1.   Support Vector Machine (svm)\n",
        "2.   Kernel Ridge Regression (krr)\n",
        "3.   Ridge Regression (ridge)\n",
        "\n",
        "Model names have the format {target}\\_1gen_\\{model}\\_{FP?}\n",
        "Example: \n",
        "\n",
        "\n",
        "*   Training a LUMO model without fingerprints with Ridge Regression\n",
        "      *   lumo\\_1gen\\_ridge \n",
        "*   Training a model for AEA with fingerprints using Support Vector Machine\n",
        "      *   aea\\_1gen\\_svm\\_FP\n",
        "\n",
        "It will take a bit to train these models! But relax, they're worth the wait 😎\n",
        "(KRR models may take very long)\n"
      ]
    },
    {
      "cell_type": "code",
      "execution_count": 7,
      "metadata": {
        "colab": {
          "base_uri": "https://localhost:8080/",
          "height": 368
        },
        "id": "psuYXoynzaLA",
        "outputId": "fee6aa49-acc7-4281-eb02-3729bf5c2a79"
      },
      "outputs": [
        {
          "output_type": "stream",
          "name": "stderr",
          "text": [
            "Making training molecules: 100%|██████████| 20201/20201 [00:07<00:00, 2796.92it/s]\n",
            "Making testing molecules: 100%|██████████| 5050/5050 [00:00<00:00, 5636.69it/s]\n",
            "Making training features: 100%|██████████| 20201/20201 [01:39<00:00, 202.66it/s]\n",
            "Making training features: 100%|██████████| 5050/5050 [00:24<00:00, 206.38it/s]\n"
          ]
        },
        {
          "output_type": "display_data",
          "data": {
            "text/plain": [
              "<Figure size 432x288 with 1 Axes>"
            ],
            "image/png": "[encoded data removed]"
          },
          "metadata": {
            "needs_background": "light"
          }
        },
        {
          "output_type": "stream",
          "name": "stdout",
          "text": [
            "The r^2 for vea_1gen_ridge_FP is 0.815 and the MAE is 0.221 eV\n"
          ]
        }
      ],
      "source": [
        "model_selection = \"vea_1gen_ridge_FP\"\n",
        "\n",
        "plot_result = True\n",
        "get_back_trained_model = True\n",
        "\n",
        "partial_amount = None # set this equal to some number if you don't have the time to wait for the full set to train\n",
        "#ex: partial_amount = 1000 will only use the first 1,000 points from the ocelot_chromophore_v1 dataset\n",
        "#be warned, training on partial subsets of data will yield a worse model than training on the full set!\n",
        "\n",
        "training_output,fp_len = define_model(model_selection, plot_result, get_back_trained_model, partial_amount = partial_amount)\n",
        "r2, mae, trained_model = training_output\n",
        "\n",
        "\n",
        "print(F\"The r^2 for {model_selection} is {r2} and the MAE is {mae} eV\")\n",
        "\n"
      ]
    },
    {
      "cell_type": "code",
      "execution_count": 8,
      "metadata": {
        "colab": {
          "base_uri": "https://localhost:8080/"
        },
        "id": "GZoiRrXpCff-",
        "outputId": "78f1395f-a813-4448-9231-b9a2cd0f9b87"
      },
      "outputs": [
        {
          "output_type": "stream",
          "name": "stdout",
          "text": [
            "vea_1gen_ridge_FP predicts the value of 1.292 for c1ccccc1\n"
          ]
        }
      ],
      "source": [
        "\n",
        "my_molecule = \"c1ccccc1\"\n",
        "\n",
        "\n",
        "my_prediction = prediction_from_fitted_model(my_molecule, trained_model, fp_len)\n",
        "\n",
        "\n",
        "print(F\"{model_selection} predicts the value of {my_prediction} for {my_molecule}\")"
      ]
    }
  ],
  "metadata": {
    "colab": {
      "collapsed_sections": [],
      "provenance": []
    },
    "kernelspec": {
      "display_name": "Python 3",
      "name": "python3"
    },
    "language_info": {
      "name": "python"
    }
  },
  "nbformat": 4,
  "nbformat_minor": 0
}