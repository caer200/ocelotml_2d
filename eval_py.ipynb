{
  "nbformat": 4,
  "nbformat_minor": 0,
  "metadata": {
    "colab": {
      "name": "eval.py",
      "provenance": [],
      "collapsed_sections": []
    },
    "kernelspec": {
      "name": "python3",
      "display_name": "Python 3"
    },
    "language_info": {
      "name": "python"
    }
  },
  "cells": [
    {
      "cell_type": "markdown",
      "source": [
        "[![Open In Colab](https://colab.research.google.com/assets/colab-badge.svg)](https://colab.research.google.com/github/caer200/ocelotml_2d/blob/main/eval.ipynb)"
      ],
      "metadata": {
        "id": "ut7LJRa2yx0N"
      }
    },
    {
      "cell_type": "markdown",
      "source": [
        "# Install the required packages"
      ],
      "metadata": {
        "id": "jyR-M4wryeJ8"
      }
    },
    {
      "cell_type": "code",
      "source": [
        "!pip install rdkit\n",
        "!pip install dgl\n",
        "!pip install dgllife"
      ],
      "metadata": {
        "id": "CAPPJSf5s1W_"
      },
      "execution_count": null,
      "outputs": []
    },
    {
      "cell_type": "markdown",
      "source": [
        "# Download the pre-trained models "
      ],
      "metadata": {
        "id": "zYcPEdZXwD2d"
      }
    },
    {
      "cell_type": "code",
      "source": [
        "import requests, zipfile, io\n",
        "\n",
        "def get_models():\n",
        "  MODELS_URL = \"https://drive.google.com/uc?export=download&id=1FfGyJ-ZLfb_vdk6-05TsfH0W2ZIk9T4f&confirm=f\"\n",
        "  r = requests.get(MODELS_URL)\n",
        "  z = zipfile.ZipFile(io.BytesIO(r.content))\n",
        "  z.extractall(\"models\")\n",
        "\n",
        "get_models()"
      ],
      "metadata": {
        "id": "xPR27j3otCoG"
      },
      "execution_count": 2,
      "outputs": []
    },
    {
      "cell_type": "markdown",
      "source": [
        "# Make predictions with pre-trained models\n",
        "\n"
      ],
      "metadata": {
        "id": "afSSjZrswpnm"
      }
    },
    {
      "cell_type": "code",
      "source": [
        "!git clone https://github.com/caer200/ocelotml_2d.git"
      ],
      "metadata": {
        "id": "QsnunLe0z2Av"
      },
      "execution_count": null,
      "outputs": []
    },
    {
      "cell_type": "code",
      "source": [
        "# load the helper functions\n",
        "from ocelotml_2d.ocelotml import * \n",
        "\n",
        "def mlpredict(smiles, model_name):\n",
        "    prediction = make_prediction_with_smiles(smiles, model_name)\n",
        "    return prediction"
      ],
      "metadata": {
        "id": "eMo1_x9StKMG"
      },
      "execution_count": null,
      "outputs": []
    },
    {
      "cell_type": "markdown",
      "source": [
        "The nomenclature of the models is ***property_generation_subtype***. \n",
        "\n"
      ],
      "metadata": {
        "id": "ADduYCLGzFtM"
      }
    },
    {
      "cell_type": "code",
      "source": [
        "# show available models\n",
        "! ls models/ocelotml_2d/"
      ],
      "metadata": {
        "id": "Qg9d_6AsrK4u",
        "outputId": "fa0221f5-2087-4765-8a08-99c0cb1f7722",
        "colab": {
          "base_uri": "https://localhost:8080/"
        }
      },
      "execution_count": 5,
      "outputs": [
        {
          "output_type": "stream",
          "name": "stdout",
          "text": [
            "aea_2gen      ar2_2gen\t    er_2gen\t   hr_2gen\t  s0t1_2gen\n",
            "aea_2gen_FP   ar2_2gen_FP   er_2gen_FP\t   hr_2gen_FP\t  s0t1_2gen_FP\n",
            "aea_3gen      ar2_3gen\t    er_3gen\t   hr_3gen\t  s0t1_3gen\n",
            "aea_4gen      ar2_4gen\t    er_4gen\t   hr_4gen\t  s0t1_4gen\n",
            "aea_4gen_evi  ar2_4gen_evi  er_4gen_evi    hr_4gen_evi\t  s0t1_4gen_evi\n",
            "aie_2gen      cr1_2gen\t    hl_2gen\t   lumo_2gen\t  vea_2gen\n",
            "aie_2gen_FP   cr1_2gen_FP   hl_2gen_FP\t   lumo_2gen_FP   vea_2gen_FP\n",
            "aie_3gen      cr1_3gen\t    hl_4gen\t   lumo_3gen\t  vea_3gen\n",
            "aie_4gen      cr1_4gen\t    hl_4gen_evi    lumo_4gen\t  vea_4gen\n",
            "aie_4gen_evi  cr1_4gen_evi  hl_gap_3gen    lumo_4gen_evi  vea_4gen_evi\n",
            "ar1_2gen      cr2_2gen\t    homo_2gen\t   s0s1_2gen\t  vie_2gen\n",
            "ar1_2gen_FP   cr2_2gen_FP   homo_2gen_FP   s0s1_2gen_FP   vie_2gen_FP\n",
            "ar1_3gen      cr2_3gen\t    homo_3gen\t   s0s1_3gen\t  vie_3gen\n",
            "ar1_4gen      cr2_4gen\t    homo_4gen\t   s0s1_4gen\t  vie_4gen\n",
            "ar1_4gen_evi  cr2_4gen_evi  homo_4gen_evi  s0s1_4gen_evi  vie_4gen_evi\n"
          ]
        }
      ]
    },
    {
      "cell_type": "markdown",
      "source": [
        "For example, prediction of homo with fourth generation model + uncertainity use  ***homo_4gen_evi***\n",
        "\n",
        "In case of models with uncertainity, first value is the prediction and the second value is the uncertainity\n",
        "\n",
        "Edit the code below to test on different molecules. SMILES can be generated [here](https://pubchem.ncbi.nlm.nih.gov//edit3/index.html).\n"
      ],
      "metadata": {
        "id": "7SM14yCfrKDQ"
      }
    },
    {
      "cell_type": "code",
      "source": [
        "smiles = \"c1ccccc1\"\n",
        "model_name = \"homo_4gen_evi\"\n",
        "mlpredict(smiles=smiles, model_name=model_name)"
      ],
      "metadata": {
        "id": "HaTNxR01xjxg",
        "outputId": "a35b2a97-587c-4966-91ff-ed4f025d2963",
        "colab": {
          "base_uri": "https://localhost:8080/"
        }
      },
      "execution_count": 17,
      "outputs": [
        {
          "output_type": "execute_result",
          "data": {
            "text/plain": [
              "[-7.796, 1.005]"
            ]
          },
          "metadata": {},
          "execution_count": 17
        }
      ]
    }
  ]
}